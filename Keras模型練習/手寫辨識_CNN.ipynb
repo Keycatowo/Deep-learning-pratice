{
 "cells": [
  {
   "cell_type": "markdown",
   "metadata": {},
   "source": [
    "# Minst 手寫辨識-CNN\n"
   ]
  },
  {
   "cell_type": "markdown",
   "metadata": {},
   "source": [
    "## packages\n",
    "+ Mnist :手寫數字資料集\n",
    "+ matplotlib.pyplot :畫圖函式\n",
    "+ np_utils :\n",
    "+ \n"
   ]
  },
  {
   "cell_type": "code",
   "execution_count": 23,
   "metadata": {
    "scrolled": true
   },
   "outputs": [],
   "source": [
    "from keras.datasets import mnist\n",
    "import matplotlib.pyplot as plt\n",
    "import numpy as np\n",
    "from keras.utils import np_utils\n",
    "from keras.models import Sequential\n",
    "from keras.layers import Conv2D,MaxPooling2D,Dropout,Flatten,Dense\n"
   ]
  },
  {
   "cell_type": "markdown",
   "metadata": {},
   "source": []
  },
  {
   "cell_type": "code",
   "execution_count": 2,
   "metadata": {},
   "outputs": [],
   "source": [
    "# 讀取Minst資料集\n",
    "(train_feature, train_label), \\\n",
    "(test_feature, test_label) = mnist.load_data()"
   ]
  },
  {
   "cell_type": "code",
   "execution_count": 65,
   "metadata": {},
   "outputs": [],
   "source": [
    "# 顯示資料圖片和\n",
    "def show_images_labels_predictions(images,labels,\n",
    "                                 predictions,start_id,num=10):\n",
    "    plt.gcf().set_size_inches(12,14)\n",
    "    if num>25 :\n",
    "        num = 25\n",
    "    for i in range(num):\n",
    "        # 以subplot方式印出不同資料圖片\n",
    "        ax = plt.subplot(5,5,i+1)\n",
    "        ax.imshow(images[start_id], cmap='binary')\n",
    "\n",
    "        # 有預測結果的資料，在標題顯示結果\n",
    "        if len(predictions) > 0 :\n",
    "            title = 'AI = ' + str(predictions[i])\n",
    "            # 顯示正確或錯誤\n",
    "            title += '(o)' if predictions[i]==labels[i] else '(x)' \n",
    "            title += '\\n'+'label = ' + str(labels[i])\n",
    "        # 沒有預測結果的資料，只在標題顯示真實數值\n",
    "        else:\n",
    "            title = 'label = ' + str(labels[i])\n",
    "        \n",
    "        # XY軸刻度不顯示\n",
    "        ax.set_xticks([]);ax.set_yticks([])\n",
    "        ax.set_title(title,fontsize=12)\n",
    "        start_id += 1\n",
    "    plt.show"
   ]
  },
  {
   "cell_type": "code",
   "execution_count": 44,
   "metadata": {},
   "outputs": [],
   "source": [
    "# 訓練繪圖工具\n",
    "def show_train_history(train_history,train,validation):\n",
    "    plt.plot(train_history.history[train])\n",
    "    plt.plot(train_history.history[validation])\n",
    "    \n",
    "    plt.legend(['train','validation'],loc='upper left')\n",
    "    plt.show()"
   ]
  },
  {
   "cell_type": "markdown",
   "metadata": {},
   "source": [
    "## Preprocessing"
   ]
  },
  {
   "cell_type": "code",
   "execution_count": 6,
   "metadata": {},
   "outputs": [
    {
     "name": "stdout",
     "output_type": "stream",
     "text": [
      "(60000, 28, 28, 1)\n",
      "(10000, 28, 28, 1)\n"
     ]
    }
   ],
   "source": [
    "# reshape\n",
    "train_feature_vector = train_feature.reshape(len(train_feature),28,28,1).astype('float32')\n",
    "test_feature_vector = test_feature.reshape(len(test_feature),28,28,1).astype('float32')\n",
    "\n",
    "print(train_feature_vector.shape)\n",
    "print(test_feature_vector.shape)"
   ]
  },
  {
   "cell_type": "code",
   "execution_count": 17,
   "metadata": {},
   "outputs": [
    {
     "name": "stdout",
     "output_type": "stream",
     "text": [
      "train: 0.0 ~ 1.0\n",
      "test: 0.0 ~ 1.0\n"
     ]
    }
   ],
   "source": [
    "# normalize feature\n",
    "train_feature_normalize = train_feature_vector/255\n",
    "test_feature_normalize = test_feature_vector/255\n",
    "print(\"train:\",np.min(train_feature_normalize),\"~\",np.max(train_feature_normalize))\n",
    "print(\"test:\",np.min(test_feature_normalize),\"~\",np.max(test_feature_normalize))"
   ]
  },
  {
   "cell_type": "code",
   "execution_count": 22,
   "metadata": {},
   "outputs": [],
   "source": [
    "# make label One-hot Encoding code\n",
    "train_label_onehot = np_utils.to_categorical(train_label)\n",
    "test_label_onehot = np_utils.to_categorical(test_label)"
   ]
  },
  {
   "cell_type": "markdown",
   "metadata": {},
   "source": [
    "## Modeling"
   ]
  },
  {
   "cell_type": "code",
   "execution_count": 36,
   "metadata": {},
   "outputs": [],
   "source": [
    "def build_CNN_model():\n",
    "    model = Sequential()\n",
    "    # Convolution layer 1\n",
    "    model.add(Conv2D(filters=10,\n",
    "                     kernel_size=(3,3),\n",
    "                     padding='same',\n",
    "                     input_shape=(28,28,1),\n",
    "                     activation='relu'))\n",
    "    # pool layer 1\n",
    "    model.add(MaxPooling2D(pool_size=(2,2)))\n",
    "    # Con layer 2\n",
    "    model.add(Conv2D(filters=10,\n",
    "                     kernel_size=(3,3),\n",
    "                     padding='same',\n",
    "                     activation='relu'))\n",
    "    # pool layer 2\n",
    "    model.add(MaxPooling2D(pool_size=(2,2)))\n",
    "    \n",
    "    model.add(Dropout(0.20))\n",
    "    # flat layer\n",
    "    model.add(Flatten())\n",
    "    \n",
    "    model.add(Dense(units=10,activation='softmax'))\n",
    "    model.summary()\n",
    "    return model\n",
    "              \n",
    "    "
   ]
  },
  {
   "cell_type": "code",
   "execution_count": 46,
   "metadata": {},
   "outputs": [
    {
     "name": "stdout",
     "output_type": "stream",
     "text": [
      "_________________________________________________________________\n",
      "Layer (type)                 Output Shape              Param #   \n",
      "=================================================================\n",
      "conv2d_6 (Conv2D)            (None, 28, 28, 10)        100       \n",
      "_________________________________________________________________\n",
      "max_pooling2d_6 (MaxPooling2 (None, 14, 14, 10)        0         \n",
      "_________________________________________________________________\n",
      "conv2d_7 (Conv2D)            (None, 14, 14, 10)        910       \n",
      "_________________________________________________________________\n",
      "max_pooling2d_7 (MaxPooling2 (None, 7, 7, 10)          0         \n",
      "_________________________________________________________________\n",
      "dropout_3 (Dropout)          (None, 7, 7, 10)          0         \n",
      "_________________________________________________________________\n",
      "flatten_3 (Flatten)          (None, 490)               0         \n",
      "_________________________________________________________________\n",
      "dense_3 (Dense)              (None, 10)                4910      \n",
      "=================================================================\n",
      "Total params: 5,920\n",
      "Trainable params: 5,920\n",
      "Non-trainable params: 0\n",
      "_________________________________________________________________\n"
     ]
    }
   ],
   "source": [
    "model = build_CNN_model()"
   ]
  },
  {
   "cell_type": "code",
   "execution_count": 47,
   "metadata": {},
   "outputs": [],
   "source": [
    "model.compile(loss='categorical_crossentropy',\n",
    "              optimizer='adam',metrics=['accuracy'])"
   ]
  },
  {
   "cell_type": "code",
   "execution_count": 48,
   "metadata": {},
   "outputs": [
    {
     "name": "stdout",
     "output_type": "stream",
     "text": [
      "Train on 48000 samples, validate on 12000 samples\n",
      "Epoch 1/10\n",
      " - 5s - loss: 0.8255 - acc: 0.7612 - val_loss: 0.2353 - val_acc: 0.9367\n",
      "Epoch 2/10\n",
      " - 4s - loss: 0.2501 - acc: 0.9256 - val_loss: 0.1560 - val_acc: 0.9576\n",
      "Epoch 3/10\n",
      " - 4s - loss: 0.1844 - acc: 0.9447 - val_loss: 0.1245 - val_acc: 0.9645\n",
      "Epoch 4/10\n",
      " - 4s - loss: 0.1534 - acc: 0.9539 - val_loss: 0.1082 - val_acc: 0.9688\n",
      "Epoch 5/10\n",
      " - 4s - loss: 0.1332 - acc: 0.9582 - val_loss: 0.0949 - val_acc: 0.9736\n",
      "Epoch 6/10\n",
      " - 4s - loss: 0.1182 - acc: 0.9631 - val_loss: 0.0904 - val_acc: 0.9738\n",
      "Epoch 7/10\n",
      " - 4s - loss: 0.1089 - acc: 0.9671 - val_loss: 0.0811 - val_acc: 0.9773\n",
      "Epoch 8/10\n",
      " - 4s - loss: 0.1015 - acc: 0.9682 - val_loss: 0.0750 - val_acc: 0.9787\n",
      "Epoch 9/10\n",
      " - 4s - loss: 0.0937 - acc: 0.9705 - val_loss: 0.0722 - val_acc: 0.9788\n",
      "Epoch 10/10\n",
      " - 4s - loss: 0.0883 - acc: 0.9732 - val_loss: 0.0661 - val_acc: 0.9813\n"
     ]
    }
   ],
   "source": [
    "train_history =model.fit(x=train_feature_normalize,\n",
    "                         y=train_label_onehot,\n",
    "                         validation_split = 0.2,\n",
    "                         epochs = 10, batch_size = 200, verbose=2)"
   ]
  },
  {
   "cell_type": "code",
   "execution_count": 49,
   "metadata": {},
   "outputs": [
    {
     "data": {
      "image/png": "[encoded data removed]",
      "text/plain": [
       "<Figure size 432x288 with 1 Axes>"
      ]
     },
     "metadata": {
      "needs_background": "light"
     },
     "output_type": "display_data"
    },
    {
     "data": {
      "image/png": "[encoded data removed]",
      "text/plain": [
       "<Figure size 432x288 with 1 Axes>"
      ]
     },
     "metadata": {
      "needs_background": "light"
     },
     "output_type": "display_data"
    },
    {
     "name": "stdout",
     "output_type": "stream",
     "text": [
      "10000/10000 [==============================] - 1s 122us/step\n",
      "\n",
      " 準確率： 0.9827\n"
     ]
    }
   ],
   "source": [
    "show_train_history(train_history,'acc','val_acc')\n",
    "show_train_history(train_history,'loss','val_loss')\n",
    "scores = model.evaluate(test_feature_normalize,test_label_onehot)\n",
    "print('\\n 準確率：',scores[1])"
   ]
  },
  {
   "cell_type": "code",
   "execution_count": 66,
   "metadata": {},
   "outputs": [
    {
     "data": {
      "image/png": "[encoded data removed]",
      "text/plain": [
       "<Figure size 864x1008 with 10 Axes>"
      ]
     },
     "metadata": {},
     "output_type": "display_data"
    }
   ],
   "source": [
    "prediction = model.predict_classes(test_feature_normalize)\n",
    "show_images_labels_predictions(test_feature,test_label,prediction,70)"
   ]
  },
  {
   "cell_type": "code",
   "execution_count": null,
   "metadata": {},
   "outputs": [],
   "source": []
  }
 ],
 "metadata": {
  "kernelspec": {
   "display_name": "Python 3",
   "language": "python",
   "name": "python3"
  },
  "language_info": {
   "codemirror_mode": {
    "name": "ipython",
    "version": 3
   },
   "file_extension": ".py",
   "mimetype": "text/x-python",
   "name": "python",
   "nbconvert_exporter": "python",
   "pygments_lexer": "ipython3",
   "version": "3.6.8"
  }
 },
 "nbformat": 4,
 "nbformat_minor": 2
}
