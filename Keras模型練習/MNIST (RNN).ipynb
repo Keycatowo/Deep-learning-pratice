{
 "cells": [
  {
   "cell_type": "markdown",
   "metadata": {},
   "source": [
    "## 讀取資料"
   ]
  },
  {
   "cell_type": "code",
   "execution_count": 37,
   "metadata": {},
   "outputs": [],
   "source": [
    "import numpy as np\n",
    "import matplotlib.pyplot as plt\n",
    "from keras.utils import np_utils\n",
    "from keras.models import Sequential\n",
    "from keras.layers import Dropout,Dense"
   ]
  },
  {
   "cell_type": "code",
   "execution_count": 1,
   "metadata": {
    "scrolled": true
   },
   "outputs": [
    {
     "name": "stderr",
     "output_type": "stream",
     "text": [
      "Using TensorFlow backend.\n"
     ]
    }
   ],
   "source": [
    "from keras.datasets import mnist\n",
    "(train_feature,train_label),(test_feature,test_label) = mnist.load_data()"
   ]
  },
  {
   "cell_type": "code",
   "execution_count": 2,
   "metadata": {},
   "outputs": [
    {
     "name": "stdout",
     "output_type": "stream",
     "text": [
      "(60000, 28, 28) (60000,)\n"
     ]
    }
   ],
   "source": [
    "print(train_feature.shape,train_label.shape)"
   ]
  },
  {
   "cell_type": "code",
   "execution_count": 3,
   "metadata": {},
   "outputs": [],
   "source": [
    "# 顯示多個資料\n",
    "def show_images_labels_predictions(images,labels,\n",
    "                                 predictions,start_id,num=10):\n",
    "    plt.gcf().set_size_inches(12,14)\n",
    "    if num>25 :\n",
    "        num = 25\n",
    "    for i in range(num):\n",
    "        # 以subplot方式印出不同資料圖片\n",
    "        ax = plt.subplot(5,5,i+1)\n",
    "        ax.imshow(images[start_id], cmap='binary')\n",
    "\n",
    "        # 有預測結果的資料，在標題顯示結果\n",
    "        if len(predictions) > 0 :\n",
    "            title = 'AI = ' + str(predictions[i])\n",
    "            # 顯示正確或錯誤\n",
    "            title += '(o)' if predictions[i]==labels[i] else '(x)' \n",
    "            title += '\\n'+'label = ' + str(labels[i])\n",
    "        # 沒有預測結果的資料，只在標題顯示真實數值\n",
    "        else:\n",
    "            title = 'label = ' + str(labels[i])\n",
    "        \n",
    "        # XY軸刻度不顯示\n",
    "        ax.set_xticks([]);ax.set_yticks([])\n",
    "        ax.set_title(title,fontsize=12)\n",
    "        start_id += 1\n",
    "    plt.show"
   ]
  },
  {
   "cell_type": "code",
   "execution_count": 35,
   "metadata": {},
   "outputs": [],
   "source": [
    "# 訓練繪圖工具\n",
    "def show_train_history(train_history,train,validation):\n",
    "    plt.plot(train_history.history[train])\n",
    "    plt.plot(train_history.history[validation])\n",
    "    \n",
    "    plt.legend(['train','validation'],loc='upper left')\n",
    "    plt.show()"
   ]
  },
  {
   "cell_type": "markdown",
   "metadata": {},
   "source": [
    "## Preprocessing"
   ]
  },
  {
   "cell_type": "code",
   "execution_count": 23,
   "metadata": {},
   "outputs": [
    {
     "name": "stdout",
     "output_type": "stream",
     "text": [
      "(60000, 28, 28)\n",
      "(10000, 28, 28)\n"
     ]
    }
   ],
   "source": [
    "# reshape\n",
    "train_feature_vector = train_feature.reshape(len(train_feature),28,28).astype('float32')\n",
    "test_feature_vector = test_feature.reshape(len(test_feature),28,28).astype('float32')\n",
    "\n",
    "print(train_feature_vector.shape)\n",
    "print(test_feature_vector.shape)"
   ]
  },
  {
   "cell_type": "code",
   "execution_count": 24,
   "metadata": {},
   "outputs": [
    {
     "name": "stdout",
     "output_type": "stream",
     "text": [
      "train: 0.0 ~ 1.0\n",
      "test: 0.0 ~ 1.0\n"
     ]
    }
   ],
   "source": [
    "# normalize feature\n",
    "train_feature_normalize = train_feature_vector/255\n",
    "test_feature_normalize = test_feature_vector/255\n",
    "print(\"train:\",np.min(train_feature_normalize),\"~\",np.max(train_feature_normalize))\n",
    "print(\"test:\",np.min(test_feature_normalize),\"~\",np.max(test_feature_normalize))"
   ]
  },
  {
   "cell_type": "code",
   "execution_count": 11,
   "metadata": {},
   "outputs": [],
   "source": [
    "# make label One-hot Encoding code\n",
    "train_label_onehot = np_utils.to_categorical(train_label)\n",
    "test_label_onehot = np_utils.to_categorical(test_label)"
   ]
  },
  {
   "cell_type": "markdown",
   "metadata": {},
   "source": [
    "## 建立simple RNN\n"
   ]
  },
  {
   "cell_type": "code",
   "execution_count": 25,
   "metadata": {},
   "outputs": [],
   "source": [
    "from keras.layers.recurrent import SimpleRNN"
   ]
  },
  {
   "cell_type": "code",
   "execution_count": 26,
   "metadata": {},
   "outputs": [],
   "source": [
    "model = Sequential()"
   ]
  },
  {
   "cell_type": "code",
   "execution_count": 27,
   "metadata": {},
   "outputs": [],
   "source": [
    "INPUT_SIZE = 28 # 每次讀取28個 \n",
    "TIME_STEPS = 28 # 讀取28次\n",
    "CELL_SIZE = 256 \n",
    "model.add(SimpleRNN(\n",
    "    input_shape = (TIME_STEPS,INPUT_SIZE),\n",
    "    units = CELL_SIZE,\n",
    "    unroll = True, # 計算時展開結構\n",
    "))"
   ]
  },
  {
   "cell_type": "code",
   "execution_count": 28,
   "metadata": {},
   "outputs": [],
   "source": [
    "model.add(Dropout(0.1))"
   ]
  },
  {
   "cell_type": "code",
   "execution_count": 29,
   "metadata": {},
   "outputs": [],
   "source": [
    "model.add(Dense(\n",
    "    units=10,\n",
    "    kernel_initializer = 'normal',\n",
    "    activation = 'softmax'\n",
    "))"
   ]
  },
  {
   "cell_type": "code",
   "execution_count": 30,
   "metadata": {},
   "outputs": [],
   "source": [
    "model.compile(loss='categorical_crossentropy',\n",
    "              optimizer='adam',metrics=['accuracy'])"
   ]
  },
  {
   "cell_type": "code",
   "execution_count": 31,
   "metadata": {},
   "outputs": [
    {
     "name": "stdout",
     "output_type": "stream",
     "text": [
      "_________________________________________________________________\n",
      "Layer (type)                 Output Shape              Param #   \n",
      "=================================================================\n",
      "simple_rnn_2 (SimpleRNN)     (None, 256)               72960     \n",
      "_________________________________________________________________\n",
      "dropout_2 (Dropout)          (None, 256)               0         \n",
      "_________________________________________________________________\n",
      "dense_2 (Dense)              (None, 10)                2570      \n",
      "=================================================================\n",
      "Total params: 75,530\n",
      "Trainable params: 75,530\n",
      "Non-trainable params: 0\n",
      "_________________________________________________________________\n"
     ]
    }
   ],
   "source": [
    "model.summary()"
   ]
  },
  {
   "cell_type": "code",
   "execution_count": 32,
   "metadata": {},
   "outputs": [
    {
     "name": "stderr",
     "output_type": "stream",
     "text": [
      "W1015 13:26:30.500521  8796 deprecation.py:323] From A:\\Anaconda3\\envs\\tensorflowenv\\lib\\site-packages\\tensorflow\\python\\ops\\math_grad.py:1250: add_dispatch_support.<locals>.wrapper (from tensorflow.python.ops.array_ops) is deprecated and will be removed in a future version.\n",
      "Instructions for updating:\n",
      "Use tf.where in 2.0, which has the same broadcast rule as np.where\n"
     ]
    },
    {
     "name": "stdout",
     "output_type": "stream",
     "text": [
      "Train on 48000 samples, validate on 12000 samples\n",
      "Epoch 1/10\n",
      " - 11s - loss: 0.4626 - acc: 0.8637 - val_loss: 0.2161 - val_acc: 0.9357\n",
      "Epoch 2/10\n",
      " - 9s - loss: 0.2139 - acc: 0.9378 - val_loss: 0.1827 - val_acc: 0.9457\n",
      "Epoch 3/10\n",
      " - 10s - loss: 0.1585 - acc: 0.9533 - val_loss: 0.1346 - val_acc: 0.9598\n",
      "Epoch 4/10\n",
      " - 9s - loss: 0.1413 - acc: 0.9591 - val_loss: 0.1047 - val_acc: 0.9700\n",
      "Epoch 5/10\n",
      " - 10s - loss: 0.1179 - acc: 0.9656 - val_loss: 0.1035 - val_acc: 0.9700\n",
      "Epoch 6/10\n",
      " - 8s - loss: 0.1027 - acc: 0.9696 - val_loss: 0.1108 - val_acc: 0.9687\n",
      "Epoch 7/10\n",
      " - 9s - loss: 0.1011 - acc: 0.9699 - val_loss: 0.1097 - val_acc: 0.9673\n",
      "Epoch 8/10\n",
      " - 8s - loss: 0.0979 - acc: 0.9709 - val_loss: 0.1195 - val_acc: 0.9669\n",
      "Epoch 9/10\n",
      " - 9s - loss: 0.0828 - acc: 0.9758 - val_loss: 0.1262 - val_acc: 0.9665\n",
      "Epoch 10/10\n",
      " - 8s - loss: 0.0823 - acc: 0.9759 - val_loss: 0.1053 - val_acc: 0.9714\n"
     ]
    }
   ],
   "source": [
    "train_history =model.fit(x=train_feature_normalize,\n",
    "                         y=train_label_onehot,\n",
    "                         validation_split = 0.2,\n",
    "                         epochs = 10, batch_size = 200, verbose=2)"
   ]
  },
  {
   "cell_type": "code",
   "execution_count": 38,
   "metadata": {},
   "outputs": [
    {
     "data": {
      "image/png": "[encoded data removed]",
      "text/plain": [
       "<Figure size 432x288 with 1 Axes>"
      ]
     },
     "metadata": {
      "needs_background": "light"
     },
     "output_type": "display_data"
    },
    {
     "data": {
      "image/png": "[encoded data removed]",
      "text/plain": [
       "<Figure size 432x288 with 1 Axes>"
      ]
     },
     "metadata": {
      "needs_background": "light"
     },
     "output_type": "display_data"
    },
    {
     "name": "stdout",
     "output_type": "stream",
     "text": [
      "10000/10000 [==============================] - 1s 127us/step\n",
      "\n",
      " 準確率： 0.9704\n"
     ]
    }
   ],
   "source": [
    "show_train_history(train_history,'acc','val_acc')\n",
    "show_train_history(train_history,'loss','val_loss')\n",
    "scores = model.evaluate(test_feature_normalize,test_label_onehot)\n",
    "print('\\n 準確率：',scores[1])"
   ]
  },
  {
   "cell_type": "code",
   "execution_count": null,
   "metadata": {},
   "outputs": [],
   "source": []
  }
 ],
 "metadata": {
  "kernelspec": {
   "display_name": "Python 3",
   "language": "python",
   "name": "python3"
  },
  "language_info": {
   "codemirror_mode": {
    "name": "ipython",
    "version": 3
   },
   "file_extension": ".py",
   "mimetype": "text/x-python",
   "name": "python",
   "nbconvert_exporter": "python",
   "pygments_lexer": "ipython3",
   "version": "3.6.8"
  }
 },
 "nbformat": 4,
 "nbformat_minor": 2
}
